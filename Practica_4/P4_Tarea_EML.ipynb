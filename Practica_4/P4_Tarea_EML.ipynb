{
 "cells": [
  {
   "cell_type": "markdown",
   "metadata": {},
   "source": [
    "# Importando librerías#"
   ]
  },
  {
   "cell_type": "code",
   "execution_count": 1,
   "metadata": {
    "colab": {
     "base_uri": "https://localhost:8080/",
     "height": 34
    },
    "colab_type": "code",
    "executionInfo": {
     "elapsed": 3249,
     "status": "ok",
     "timestamp": 1573513256795,
     "user": {
      "displayName": "Servicio Social",
      "photoUrl": "",
      "userId": "08682093663810328269"
     },
     "user_tz": 360
    },
    "id": "Zqmb49SeNKrX",
    "outputId": "925ff3df-6bcd-4d02-b575-dfa57b30304f"
   },
   "outputs": [],
   "source": [
    "%matplotlib inline\n",
    "import numpy as np\n",
    "import matplotlib.pyplot as plt\n",
    "import tensorflow as tf\n",
    "from tabulate import tabulate"
   ]
  },
  {
   "cell_type": "markdown",
   "metadata": {},
   "source": [
    "# Definiendo el Dataset"
   ]
  },
  {
   "cell_type": "code",
   "execution_count": 2,
   "metadata": {
    "colab": {},
    "colab_type": "code",
    "id": "pbMVvMGgN8zZ"
   },
   "outputs": [
    {
     "name": "stdout",
     "output_type": "stream",
     "text": [
      "[[0 0]\n",
      " [0 1]\n",
      " [1 0]\n",
      " [1 1]]\n",
      "(4, 2)\n",
      "\n",
      "[0 1 1 0]\n",
      "(4,)\n"
     ]
    }
   ],
   "source": [
    "x_train = np.array([[0,0],[0,1],[1,0],[1,1]]) #Dataset de entrenamiento\n",
    "#x_train = np.array([[0.011,0.011],[0.11,0.99],[0.954,0.012],[0.99,0.933]]) #Dataset de entrenamiento\n",
    "#y_train = np.array([0.0111,0.998,0.997,0.0113]) #Etiquetas del dataset con cierto ruido\n",
    "#y_train = np.array([0.011,0.9,0.9,0.011]) #Etiquetas del dataset con cierto ruido\n",
    "#y_train = np.array([0.1,.9,.9,.1]) #Etiquetas del dataset con cierto ruido\n",
    "y_train = np.array([0,1,1,0]) #Etiquetas del dataset con cierto ruido\n",
    "print(x_train)\n",
    "print(x_train.shape)\n",
    "print()\n",
    "print(y_train)\n",
    "print(y_train.shape)"
   ]
  },
  {
   "cell_type": "markdown",
   "metadata": {},
   "source": [
    "# Definiendo arquitectura de la red#"
   ]
  },
  {
   "cell_type": "code",
   "execution_count": 3,
   "metadata": {},
   "outputs": [],
   "source": [
    "def Neural_network_model(n_neurons_hl,x_train):\n",
    "    weights = {}\n",
    "    biases = {}\n",
    "    \n",
    "    #Initializing weights\n",
    "    weights['W_hl1'] = np.random.normal(size=(n_neurons_hl,x_train.shape[1]))#matriz de pesos de la capa oculta\n",
    "    weights['W_out'] = np.random.normal(size=(1,n_neurons_hl))#matriz de pesos de la capa de salida  \n",
    "    \n",
    "    #Initializing biases\n",
    "    biases['b_hl1'] = np.random.normal(size=(n_neurons_hl))#bias de la capa oculta\n",
    "    biases['b_out'] = np.random.normal(size=(1))#bias de la capa de salida\n",
    "                                        \n",
    "    return [weights,biases]"
   ]
  },
  {
   "cell_type": "markdown",
   "metadata": {},
   "source": [
    "# Definiendo función de activación, feedforward y entrenamiento#"
   ]
  },
  {
   "cell_type": "code",
   "execution_count": 4,
   "metadata": {},
   "outputs": [],
   "source": [
    "def feedforward(x_train,ANN):\n",
    "    output = np.add(np.dot(x_train,np.transpose(ANN[0]['W_hl1'])),ANN[1]['b_hl1'])#propagación hacia adelante del dataset en la red\n",
    "    #output = np.matmul(x_train,np.transpose(ANN[0]['W_hl1']))\n",
    "    activate_output = relu(output)#activación de la salida\n",
    "    #activate_output = sigmoid(output)\n",
    "    return output\n",
    "\n",
    "def relu(z):\n",
    "    return np.maximum(0,z)#función de activación relu, (que valores se van a comparar, umbral del cual se va a partir)\n",
    "\n",
    "def sigmoid(z):\n",
    "    sig = 1 / (1 + np.exp(-z))\n",
    "    return(sig)\n",
    "    \n",
    "def Train_neural_network(x_train,y_train,ANN):\n",
    "    H_matrix = feedforward(x_train,ANN) #matriz de propagación hacia adelante\n",
    "    Ht_matrix = np.transpose(H_matrix) #matriz inversa\n",
    "    B = np.dot(np.linalg.inv(np.dot(Ht_matrix, H_matrix)), np.dot(Ht_matrix, y_train)) #calculo de los pesos de salida\n",
    "    return B  "
   ]
  },
  {
   "cell_type": "markdown",
   "metadata": {},
   "source": [
    "# Entrenando la red neuronal#"
   ]
  },
  {
   "cell_type": "code",
   "execution_count": 5,
   "metadata": {},
   "outputs": [
    {
     "name": "stdout",
     "output_type": "stream",
     "text": [
      "Numero de neuronas en capa oculta: 4\n"
     ]
    }
   ],
   "source": [
    "n_neurons_hl = int(input('Numero de neuronas en capa oculta: '))"
   ]
  },
  {
   "cell_type": "code",
   "execution_count": 6,
   "metadata": {},
   "outputs": [
    {
     "name": "stdout",
     "output_type": "stream",
     "text": [
      "[{'W_hl1': array([[ 1.22170687, -1.34495196],\n",
      "       [-0.11485927, -1.52712018],\n",
      "       [ 0.73690816,  0.17617636],\n",
      "       [ 1.04056301,  1.11565446]]), 'W_out': array([[-0.56923837,  0.57821057,  1.16987174,  0.68205093]])}, {'b_hl1': array([-0.08460525, -0.05980943, -0.25109438,  0.31723748]), 'b_out': array([0.53093166])}]\n"
     ]
    }
   ],
   "source": [
    "ANN = Neural_network_model(n_neurons_hl,x_train)#inicializando el modelo de red neuronal\n",
    "print(ANN)"
   ]
  },
  {
   "cell_type": "markdown",
   "metadata": {
    "colab_type": "text",
    "id": "meMN09AMRkkw"
   },
   "source": [
    "![image.png](data:image/png;base64,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)"
   ]
  },
  {
   "cell_type": "code",
   "execution_count": 7,
   "metadata": {
    "colab": {
     "base_uri": "https://localhost:8080/",
     "height": 34
    },
    "colab_type": "code",
    "executionInfo": {
     "elapsed": 205315,
     "status": "ok",
     "timestamp": 1573514357688,
     "user": {
      "displayName": "Servicio Social",
      "photoUrl": "",
      "userId": "08682093663810328269"
     },
     "user_tz": 360
    },
    "id": "arJAZ9xvRod_",
    "outputId": "017927ca-a419-447b-f1d0-bf1dcb69d9d8"
   },
   "outputs": [
    {
     "name": "stdout",
     "output_type": "stream",
     "text": [
      "[{'W_hl1': array([[ 1.22170687, -1.34495196],\n",
      "       [-0.11485927, -1.52712018],\n",
      "       [ 0.73690816,  0.17617636],\n",
      "       [ 1.04056301,  1.11565446]]), 'W_out': array([ 0.375 , -0.125 , -1.375 ,  0.5625])}, {'b_hl1': array([-0.08460525, -0.05980943, -0.25109438,  0.31723748]), 'b_out': array([0.53093166])}]\n"
     ]
    }
   ],
   "source": [
    "ANN[0]['W_out'] = Train_neural_network(x_train,y_train,ANN)#entrenando el modelo, buscando los pesos de salida \n",
    "print(ANN)"
   ]
  },
  {
   "cell_type": "markdown",
   "metadata": {},
   "source": [
    "# Probando el accuracy de la red neuronal#"
   ]
  },
  {
   "cell_type": "code",
   "execution_count": 8,
   "metadata": {
    "colab": {},
    "colab_type": "code",
    "id": "pn4G8xf6SB_W"
   },
   "outputs": [],
   "source": [
    "def Testing_neural_network(x_train,y_train,ANN):\n",
    "    #Feedforward\n",
    "    #out_hl1 = sigmoid(np.add(np.dot(x_train,np.transpose(ANN[0]['W_hl1'])),ANN[1]['b_hl1']))\n",
    "    out_hl1 = relu(np.matmul(x_train,np.transpose(ANN[0]['W_hl1'])))#propagación hacia adelante\n",
    "    output = np.add(np.dot(out_hl1,np.transpose(ANN[0]['W_out'])),ANN[1]['b_out'])\n",
    "    \n",
    "    Final_results = []\n",
    "    pos = 0\n",
    "    for x in x_train: #por cada vector del dataset\n",
    "        Final_results.append([x,y_train[pos],output[pos]])\n",
    "        pos += 1\n",
    "    \n",
    "    print(tabulate(Final_results,headers=['Input','Target','Output NN'],tablefmt='fancy_grid'))"
   ]
  },
  {
   "cell_type": "code",
   "execution_count": 9,
   "metadata": {
    "colab": {
     "base_uri": "https://localhost:8080/",
     "height": 34
    },
    "colab_type": "code",
    "executionInfo": {
     "elapsed": 5330,
     "status": "ok",
     "timestamp": 1573514448641,
     "user": {
      "displayName": "Servicio Social",
      "photoUrl": "",
      "userId": "08682093663810328269"
     },
     "user_tz": 360
    },
    "id": "qqx5vYbhSGQx",
    "outputId": "a1de076b-2b7c-462d-cfbf-5ac13188b4f6"
   },
   "outputs": [
    {
     "name": "stdout",
     "output_type": "stream",
     "text": [
      "╒═════════╤══════════╤═════════════╕\n",
      "│ Input   │   Target │   Output NN │\n",
      "╞═════════╪══════════╪═════════════╡\n",
      "│ [0 0]   │        0 │    0.530932 │\n",
      "├─────────┼──────────┼─────────────┤\n",
      "│ [0 1]   │        1 │    0.916245 │\n",
      "├─────────┼──────────┼─────────────┤\n",
      "│ [1 0]   │        1 │    0.56114  │\n",
      "├─────────┼──────────┼─────────────┤\n",
      "│ [1 1]   │        0 │    0.488313 │\n",
      "╘═════════╧══════════╧═════════════╛\n"
     ]
    }
   ],
   "source": [
    "#print(x_train)\n",
    "Testing_neural_network(x_train,y_train,ANN)"
   ]
  },
  {
   "cell_type": "code",
   "execution_count": null,
   "metadata": {},
   "outputs": [],
   "source": []
  }
 ],
 "metadata": {
  "colab": {
   "name": "ELM_1.ipynb",
   "provenance": []
  },
  "kernelspec": {
   "display_name": "Python 3",
   "language": "python",
   "name": "python3"
  },
  "language_info": {
   "codemirror_mode": {
    "name": "ipython",
    "version": 3
   },
   "file_extension": ".py",
   "mimetype": "text/x-python",
   "name": "python",
   "nbconvert_exporter": "python",
   "pygments_lexer": "ipython3",
   "version": "3.7.2"
  }
 },
 "nbformat": 4,
 "nbformat_minor": 1
}
