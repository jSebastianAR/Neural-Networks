{
  "nbformat": 4,
  "nbformat_minor": 0,
  "metadata": {
    "colab": {
      "name": "MPL_MNIST.ipynb",
      "provenance": [],
      "collapsed_sections": []
    },
    "kernelspec": {
      "name": "python3",
      "display_name": "Python 3"
    },
    "accelerator": "GPU"
  },
  "cells": [
    {
      "cell_type": "markdown",
      "metadata": {
        "colab_type": "text",
        "id": "jPitwRrcRpma"
      },
      "source": [
        "### Importación de Tensorflow"
      ]
    },
    {
      "cell_type": "code",
      "metadata": {
        "colab_type": "code",
        "id": "EPZtMACjRpmc",
        "colab": {}
      },
      "source": [
        "import tensorflow as tf #importamos tensorflow\n",
        "import numpy as np\n",
        "import matplotlib.pyplot as plt\n",
        "%matplotlib inline\n",
        "%tensorflow_version 1.x"
      ],
      "execution_count": 0,
      "outputs": []
    },
    {
      "cell_type": "markdown",
      "metadata": {
        "colab_type": "text",
        "id": "6LvwzIXaRpmf"
      },
      "source": [
        "### Importación de datos "
      ]
    },
    {
      "cell_type": "code",
      "metadata": {
        "colab_type": "code",
        "id": "4B4h-7glRpmg",
        "outputId": "dfc107b5-9dcf-4cd0-ea4d-30580152ab57",
        "colab": {
          "base_uri": "https://localhost:8080/",
          "height": 530
        }
      },
      "source": [
        "from tensorflow.examples.tutorials.mnist import input_data #importamos algun dataset de la libreria mnist\n",
        "mnist = input_data.read_data_sets(\"input/data/\", one_hot = True) #lee los datasets y retorna la codificacion con one hot, puede ser representacion binaria, etc."
      ],
      "execution_count": 3,
      "outputs": [
        {
          "output_type": "stream",
          "text": [
            "WARNING:tensorflow:From <ipython-input-3-a860f7a507bd>:2: read_data_sets (from tensorflow.contrib.learn.python.learn.datasets.mnist) is deprecated and will be removed in a future version.\n",
            "Instructions for updating:\n",
            "Please use alternatives such as official/mnist/dataset.py from tensorflow/models.\n",
            "WARNING:tensorflow:From /usr/local/lib/python3.6/dist-packages/tensorflow_core/contrib/learn/python/learn/datasets/mnist.py:260: maybe_download (from tensorflow.contrib.learn.python.learn.datasets.base) is deprecated and will be removed in a future version.\n",
            "Instructions for updating:\n",
            "Please write your own downloading logic.\n",
            "WARNING:tensorflow:From /usr/local/lib/python3.6/dist-packages/tensorflow_core/contrib/learn/python/learn/datasets/base.py:252: _internal_retry.<locals>.wrap.<locals>.wrapped_fn (from tensorflow.contrib.learn.python.learn.datasets.base) is deprecated and will be removed in a future version.\n",
            "Instructions for updating:\n",
            "Please use urllib or similar directly.\n",
            "Successfully downloaded train-images-idx3-ubyte.gz 9912422 bytes.\n",
            "WARNING:tensorflow:From /usr/local/lib/python3.6/dist-packages/tensorflow_core/contrib/learn/python/learn/datasets/mnist.py:262: extract_images (from tensorflow.contrib.learn.python.learn.datasets.mnist) is deprecated and will be removed in a future version.\n",
            "Instructions for updating:\n",
            "Please use tf.data to implement this functionality.\n",
            "Extracting input/data/train-images-idx3-ubyte.gz\n",
            "Successfully downloaded train-labels-idx1-ubyte.gz 28881 bytes.\n",
            "WARNING:tensorflow:From /usr/local/lib/python3.6/dist-packages/tensorflow_core/contrib/learn/python/learn/datasets/mnist.py:267: extract_labels (from tensorflow.contrib.learn.python.learn.datasets.mnist) is deprecated and will be removed in a future version.\n",
            "Instructions for updating:\n",
            "Please use tf.data to implement this functionality.\n",
            "Extracting input/data/train-labels-idx1-ubyte.gz\n",
            "WARNING:tensorflow:From /usr/local/lib/python3.6/dist-packages/tensorflow_core/contrib/learn/python/learn/datasets/mnist.py:110: dense_to_one_hot (from tensorflow.contrib.learn.python.learn.datasets.mnist) is deprecated and will be removed in a future version.\n",
            "Instructions for updating:\n",
            "Please use tf.one_hot on tensors.\n",
            "Successfully downloaded t10k-images-idx3-ubyte.gz 1648877 bytes.\n",
            "Extracting input/data/t10k-images-idx3-ubyte.gz\n",
            "Successfully downloaded t10k-labels-idx1-ubyte.gz 4542 bytes.\n",
            "Extracting input/data/t10k-labels-idx1-ubyte.gz\n",
            "WARNING:tensorflow:From /usr/local/lib/python3.6/dist-packages/tensorflow_core/contrib/learn/python/learn/datasets/mnist.py:290: DataSet.__init__ (from tensorflow.contrib.learn.python.learn.datasets.mnist) is deprecated and will be removed in a future version.\n",
            "Instructions for updating:\n",
            "Please use alternatives such as official/mnist/dataset.py from tensorflow/models.\n"
          ],
          "name": "stdout"
        }
      ]
    },
    {
      "cell_type": "markdown",
      "metadata": {
        "colab_type": "text",
        "id": "wi_nqCWxRpmo"
      },
      "source": [
        "### verificando los datos de prueba"
      ]
    },
    {
      "cell_type": "code",
      "metadata": {
        "colab_type": "code",
        "id": "AcqBlhxhRpmo",
        "outputId": "45c41957-463f-42b6-a556-5df15d875ee9",
        "colab": {
          "base_uri": "https://localhost:8080/",
          "height": 34
        }
      },
      "source": [
        "mnist.train.images.shape #obtiene todos las imagenes de entrenamiento, retorna la forma, #obtenemos 55000 imagenes de 28*28\n",
        "#print(vars(mnist.train))\n",
        "#print(mnist.train.labels)"
      ],
      "execution_count": 4,
      "outputs": [
        {
          "output_type": "execute_result",
          "data": {
            "text/plain": [
              "(55000, 784)"
            ]
          },
          "metadata": {
            "tags": []
          },
          "execution_count": 4
        }
      ]
    },
    {
      "cell_type": "code",
      "metadata": {
        "colab_type": "code",
        "id": "4LW4wwLYRpmr",
        "colab": {}
      },
      "source": [
        "#print(mnist.train.images[0])\n",
        "imagendemo=np.reshape(mnist.train.images[30,:],(28,28)) #obtiene una de las imagenes\n",
        "#print(mnist.train.images[24,:])"
      ],
      "execution_count": 0,
      "outputs": []
    },
    {
      "cell_type": "code",
      "metadata": {
        "colab_type": "code",
        "id": "1uOJRGzQRpmu",
        "outputId": "667ee1c2-6115-47cc-c0b9-75ed71f4be21",
        "colab": {
          "base_uri": "https://localhost:8080/",
          "height": 282
        }
      },
      "source": [
        "plt.imshow(imagendemo,cmap='gray')"
      ],
      "execution_count": 6,
      "outputs": [
        {
          "output_type": "execute_result",
          "data": {
            "text/plain": [
              "<matplotlib.image.AxesImage at 0x7ff3338bc6a0>"
            ]
          },
          "metadata": {
            "tags": []
          },
          "execution_count": 6
        },
        {
          "output_type": "display_data",
          "data": {
            "image/png": "[encoded data removed]",
            "text/plain": [
              "<Figure size 432x288 with 1 Axes>"
            ]
          },
          "metadata": {
            "tags": []
          }
        }
      ]
    },
    {
      "cell_type": "code",
      "metadata": {
        "colab_type": "code",
        "id": "ScIUfHpaQQyJ",
        "colab": {}
      },
      "source": [
        "def image_matrix(img):\n",
        "    print('\\n'.join([''.join(['{:4}'.format(int(round(item*255))) for item in row]) for row in img]))"
      ],
      "execution_count": 0,
      "outputs": []
    },
    {
      "cell_type": "code",
      "metadata": {
        "colab_type": "code",
        "id": "O6AK5fDJQQyM",
        "outputId": "042570b8-d6d6-44ee-8f1d-98707ae1834b",
        "colab": {
          "base_uri": "https://localhost:8080/",
          "height": 493
        }
      },
      "source": [
        "image_matrix(imagendemo)"
      ],
      "execution_count": 8,
      "outputs": [
        {
          "output_type": "stream",
          "text": [
            "   0   0   0   0   0   0   0   0   0   0   0   0   0   0   0   0   0   0   0   0   0   0   0   0   0   0   0   0\n",
            "   0   0   0   0   0   0   0   0   0   0   0   0   0   0   0   0   0   0   0   0   0   0   0   0   0   0   0   0\n",
            "   0   0   0   0   0   0   0   0   0   0   0   0   0   0   0   0   0   0   0   0   0   0   0   0   0   0   0   0\n",
            "   0   0   0   0   0   0   0   0   0   0   0   0   0   0   0   0   0   0   0   0   0   0   0   0   0   0   0   0\n",
            "   0   0   0   0   0   0   0   0   0   0   0   0   0   0   0   0   0   0   0   0   0   0   0   0   0   0   0   0\n",
            "   0   0   0   0   0   0   0   0   0   0   0   0   0 191 255 255 128   0   0   0   0   0   0   0   0   0   0   0\n",
            "   0   0   0   0   0   0   0   0   0   0   0   0   0 255 255 255 255 255  64   0   0   0   0   0   0   0   0   0\n",
            "   0   0   0   0   0   0   0   0   0   0   0   0   0 255 255 191 255 255 255  64   0   0   0   0   0   0   0   0\n",
            "   0   0   0   0   0   0   0   0   0   0   0   0   0 255 255 128   0  64 255 255 191  64   0   0   0   0   0   0\n",
            "   0   0   0   0   0   0   0   0   0   0   0   0   0 255 255 128   0   0   0 128 255 255   0   0   0   0   0   0\n",
            "   0   0   0   0   0   0   0   0   0   0   0   0   0 255 255 128   0   0   0   0   0   0   0   0   0   0   0   0\n",
            "   0   0   0   0   0   0   0   0   0   0   0   0   0 255 255 191   0   0   0   0   0 128   0   0   0   0   0   0\n",
            "   0   0   0   0   0   0   0   0   0   0   0   0   0 255 255 255 128 128 191 255 255 255  64   0   0   0   0   0\n",
            "   0   0   0   0   0   0   0   0   0   0   0   0  64 255 255 255 255 255 255 128 128  64   0   0   0   0   0   0\n",
            "   0   0   0   0   0   0   0   0   0   0   0  64 255 255 255 255 255  64   0   0   0   0   0   0   0   0   0   0\n",
            "   0   0   0   0   0   0   0   0   0   0   0 128 255 128 128 255 255   0   0   0   0   0   0   0   0   0   0   0\n",
            "   0   0   0   0   0   0   0   0   0   0   0 128 128   0 128 255 255   0   0   0   0   0   0   0   0   0   0   0\n",
            "   0   0   0   0   0   0   0   0   0  64 191  64   0   0 128 255 255   0   0   0   0   0   0   0   0   0   0   0\n",
            "   0   0   0   0   0   0   0   0   0 128 255 128   0   0 128 255 255   0   0   0   0   0   0   0   0   0   0   0\n",
            "   0   0   0   0   0   0   0   0   0 128 255 128   0   0 255 255  64   0   0   0   0   0   0   0   0   0   0   0\n",
            "   0   0   0   0   0   0   0   0   0 128 255   0   0 191 255 255   0   0   0   0   0   0   0   0   0   0   0   0\n",
            "   0   0   0   0   0   0   0   0   0 128 255 128  64 255 255  64   0   0   0   0   0   0   0   0   0   0   0   0\n",
            "   0   0   0   0   0   0   0   0   0 128 255 255 255 255 128   0   0   0   0   0   0   0   0   0   0   0   0   0\n",
            "   0   0   0   0   0   0   0   0   0  64 255 255 255 191   0   0   0   0   0   0   0   0   0   0   0   0   0   0\n",
            "   0   0   0   0   0   0   0   0   0   0 191 255 128   0   0   0   0   0   0   0   0   0   0   0   0   0   0   0\n",
            "   0   0   0   0   0   0   0   0   0   0   0   0   0   0   0   0   0   0   0   0   0   0   0   0   0   0   0   0\n",
            "   0   0   0   0   0   0   0   0   0   0   0   0   0   0   0   0   0   0   0   0   0   0   0   0   0   0   0   0\n",
            "   0   0   0   0   0   0   0   0   0   0   0   0   0   0   0   0   0   0   0   0   0   0   0   0   0   0   0   0\n"
          ],
          "name": "stdout"
        }
      ]
    },
    {
      "cell_type": "markdown",
      "metadata": {
        "colab_type": "text",
        "id": "hUPvkJ1URpmy"
      },
      "source": [
        "### Declarando la arquitectura\n",
        "\n",
        "Generando función "
      ]
    },
    {
      "cell_type": "code",
      "metadata": {
        "colab_type": "code",
        "id": "0n-_0mxcRpmz",
        "colab": {}
      },
      "source": [
        "def Neural_network_model(\n",
        "    n_nodes_hl1=500,\n",
        "    n_nodes_hl2=500,\n",
        "    n_nodes_hl3=500,\n",
        "    n_classes=10\n",
        "    ):\n",
        "    \n",
        "    \n",
        "    # Declarando las entradas y salidas, lo definimos nosotros\n",
        "    x=tf.placeholder('float',[None,784]) #aparta espacio para los datos que entraran, en este caso almacenara un float, 784 = dimension del vector(de la imagen)\n",
        "    #None = tamaño del batch, el cual no sabemos de que tamaño es, pero sabemos que hay uno\n",
        "    y=tf.placeholder('float') #guarda espacio para los datos(etiquetas) que saldran respecto a la entrada que se le da en cada iteracion\n",
        "    \n",
        "    # Declarando las variables \n",
        "    #parametro = para tensorflow el objeto Variable permitira hacer las modificaciones, es decir aquello que se puede modificar durante el entrenamiento\n",
        "    #hiperparametro = Constante, todo aquello que nosotros modificamos antes del entrenamiento\n",
        "    \n",
        "    #Tamaño de las diferentes capas, \n",
        "    #weigths se inicializan aleatoriamente con una distribucion normal\n",
        "    hidden_1_layer = {'weights':tf.Variable(tf.random_normal([784, n_nodes_hl1])),\n",
        "                      'biases':tf.Variable(tf.random_normal([n_nodes_hl1]))}\n",
        "    #print(hidden_1_layer['weights'].shape)\n",
        "    #print(hidden_1_layer['weights'])\n",
        "    hidden_2_layer = {'weights':tf.Variable(tf.random_normal([n_nodes_hl1, n_nodes_hl2])),\n",
        "                      'biases':tf.Variable(tf.random_normal([n_nodes_hl2]))}\n",
        "    #print(hidden_2_layer['weights'].shape)\n",
        "    hidden_3_layer = {'weights':tf.Variable(tf.random_normal([n_nodes_hl2, n_nodes_hl3])),\n",
        "                      'biases':tf.Variable(tf.random_normal([n_nodes_hl3]))}\n",
        "    #print(hidden_3_layer['weights'].shape)\n",
        "    output_layer = {'weights':tf.Variable(tf.random_normal([n_nodes_hl3, n_classes])),\n",
        "                    'biases':tf.Variable(tf.random_normal([n_classes]))}\n",
        "    \n",
        "    #print(output_layer['weights'].shape)\n",
        "    \n",
        "    # Declarando la arquitectura, conectando todo\n",
        "    \n",
        "    l1 = tf.add(tf.matmul(x,hidden_1_layer['weights']), hidden_1_layer['biases'])\n",
        "    l1 = tf.nn.relu(l1)\n",
        "\n",
        "    l2 = tf.add(tf.matmul(l1,hidden_2_layer['weights']), hidden_2_layer['biases'])\n",
        "    l2 = tf.nn.relu(l2)\n",
        "\n",
        "    l3 = tf.add(tf.matmul(l2,hidden_3_layer['weights']), hidden_3_layer['biases'])\n",
        "    l3 = tf.nn.relu(l3)\n",
        "\n",
        "    output = tf.matmul(l3,output_layer['weights']) + output_layer['biases']\n",
        "    #para la salida no necesariamente se pone la función de activación\n",
        "    \n",
        "    # Declarando la funcion de costo y optimizador, \n",
        "    #error, entropia cruzada de logicos es una medida de distancia, \n",
        "    #reduce mean = promediara el error obtenido(gradiente estocastico medio)\n",
        "    cost = tf.reduce_mean( tf.nn.softmax_cross_entropy_with_logits(logits=output\n",
        "                                                                   , labels=y) ) \n",
        "    ##Accuracy para está epoca\n",
        "    correct = tf.equal(tf.argmax(output, 1), tf.argmax(y, 1))\n",
        "    acc = tf.reduce_mean(tf.cast(correct, 'float'))\n",
        "    #logits = la salida que obtengo de la red, labels = las etiquetas obtenidas del mnist(lo que quiero)\n",
        "    \n",
        "    optimizer = tf.train.AdamOptimizer().minimize(cost)#AdamOptimizer minimizara el costo\n",
        "    \n",
        "    #retorna control a cada parametro\n",
        "    return dict(\n",
        "              x=x, #entradas\n",
        "              y=y, #salidas\n",
        "              output=output,#salida de la red\n",
        "              cost=cost,#costo\n",
        "              acc = acc, #accuracy\n",
        "              optimizer=optimizer\n",
        "              )"
      ],
      "execution_count": 0,
      "outputs": []
    },
    {
      "cell_type": "code",
      "metadata": {
        "colab_type": "code",
        "id": "SB_ocuTDRpm2",
        "outputId": "913c2487-a0bb-428c-cc62-8a7e6e31c7f4",
        "colab": {
          "base_uri": "https://localhost:8080/",
          "height": 275
        }
      },
      "source": [
        "#Prueba del modelo\n",
        "Neural_network_model()\n"
      ],
      "execution_count": 12,
      "outputs": [
        {
          "output_type": "stream",
          "text": [
            "WARNING:tensorflow:From <ipython-input-11-eee4d39e2fe3>:53: softmax_cross_entropy_with_logits (from tensorflow.python.ops.nn_ops) is deprecated and will be removed in a future version.\n",
            "Instructions for updating:\n",
            "\n",
            "Future major versions of TensorFlow will allow gradients to flow\n",
            "into the labels input on backprop by default.\n",
            "\n",
            "See `tf.nn.softmax_cross_entropy_with_logits_v2`.\n",
            "\n"
          ],
          "name": "stdout"
        },
        {
          "output_type": "execute_result",
          "data": {
            "text/plain": [
              "{'acc': <tf.Tensor 'Mean_1:0' shape=() dtype=float32>,\n",
              " 'cost': <tf.Tensor 'Mean:0' shape=() dtype=float32>,\n",
              " 'optimizer': <tf.Operation 'Adam' type=NoOp>,\n",
              " 'output': <tf.Tensor 'add_3:0' shape=(?, 10) dtype=float32>,\n",
              " 'x': <tf.Tensor 'Placeholder:0' shape=(?, 784) dtype=float32>,\n",
              " 'y': <tf.Tensor 'Placeholder_1:0' shape=<unknown> dtype=float32>}"
            ]
          },
          "metadata": {
            "tags": []
          },
          "execution_count": 12
        }
      ]
    },
    {
      "cell_type": "markdown",
      "metadata": {
        "colab_type": "text",
        "id": "cnND6eokQQyb"
      },
      "source": [
        "## función de entrenamiento  y prueba"
      ]
    },
    {
      "cell_type": "code",
      "metadata": {
        "colab_type": "code",
        "id": "f-cDNuusRpm8",
        "colab": {}
      },
      "source": [
        "loss = []\n",
        "accuracy = []\n",
        "def train_neural_network(DNN, hm_epochs=500,batch_size=100): #DNN =Diccionario de retorno de la funcion Neural network model\n",
        "    with tf.Session() as sess: #se define el espacio de código que será compilado\n",
        "        sess.run(tf.global_variables_initializer())#todas las variables globales son inicializadas con los valores que nosotros declaramos\n",
        "\n",
        "        for epoch in range(hm_epochs):\n",
        "            epoch_loss = 0 #error de la epoca\n",
        "            for _ in range(int(mnist.train.num_examples/batch_size)):#for que toma el numero total de elementos entre el batch\n",
        "                epoch_x, epoch_y = mnist.train.next_batch(batch_size) #epoch_x = valores de entrada del batch epoch_y = etiquetas del batch actual\n",
        "                feed_dict={DNN[\"x\"]: epoch_x, #carga las entradas actuales en las entradas de la arquitectura\n",
        "                           DNN[\"y\"]: epoch_y} #carga las etiquetas correspondientes de las entradas almacenadas en epoch_x\n",
        "                _, c, prediction,y,acc   = sess.run([DNN[\"optimizer\"], DNN[\"cost\"] #todo lo retornado debe estar declarado en el diccionario de retorno de la arquitectura de la red\n",
        "                                                 , DNN[\"output\"], DNN[\"y\"],DNN[\"acc\"]], \n",
        "                                                feed_dict=feed_dict) #sessrun hace una lista de todo lo que deseo que retorne\n",
        "                epoch_loss += c\n",
        "            loss.append(epoch_loss)\n",
        "            accuracy.append(acc)\n",
        "\n",
        "            print('Epoch', epoch, 'completed out of',hm_epochs,'loss:',epoch_loss)\n",
        "        \n",
        "        ## prueba con el conjunto de entrenamiento \n",
        "        \n",
        "        #Prueba con datos nunca antes vistos  \n",
        "        prediction,y   = sess.run([DNN[\"output\"], DNN[\"y\"]], feed_dict={DNN[\"x\"]:mnist.test.images, DNN[\"y\"]:mnist.test.labels})\n",
        "        correct = tf.equal(tf.argmax(prediction, 1), tf.argmax(y, 1))\n",
        "        precision = tf.reduce_mean(tf.cast(correct, 'float'))\n",
        "        print('Accuracy Test:',precision.eval())"
      ],
      "execution_count": 0,
      "outputs": []
    },
    {
      "cell_type": "markdown",
      "metadata": {
        "id": "EgaJVYhG4Y5h",
        "colab_type": "text"
      },
      "source": [
        ""
      ]
    },
    {
      "cell_type": "code",
      "metadata": {
        "colab_type": "code",
        "id": "QFKfo19DRpnB",
        "outputId": "c1a4695f-0322-46f8-9722-77eda6cf1739",
        "colab": {
          "base_uri": "https://localhost:8080/",
          "height": 1000
        }
      },
      "source": [
        "DNN=Neural_network_model()\n",
        "train_neural_network(DNN)"
      ],
      "execution_count": 21,
      "outputs": [
        {
          "output_type": "stream",
          "text": [
            "Epoch 0 completed out of 500 loss: 1685966.2828979492\n",
            "Epoch 1 completed out of 500 loss: 398051.7062149048\n",
            "Epoch 2 completed out of 500 loss: 220703.83944892883\n",
            "Epoch 3 completed out of 500 loss: 127154.03533363342\n",
            "Epoch 4 completed out of 500 loss: 77995.88271963596\n",
            "Epoch 5 completed out of 500 loss: 51785.06711958707\n",
            "Epoch 6 completed out of 500 loss: 34411.17641624811\n",
            "Epoch 7 completed out of 500 loss: 21940.017706102954\n",
            "Epoch 8 completed out of 500 loss: 20465.646859437227\n",
            "Epoch 9 completed out of 500 loss: 17008.03360185027\n",
            "Epoch 10 completed out of 500 loss: 17038.87833445236\n",
            "Epoch 11 completed out of 500 loss: 14679.649186988472\n",
            "Epoch 12 completed out of 500 loss: 15919.473353400826\n",
            "Epoch 13 completed out of 500 loss: 10386.125020614449\n",
            "Epoch 14 completed out of 500 loss: 12723.578028827906\n",
            "Epoch 15 completed out of 500 loss: 13422.835015594901\n",
            "Epoch 16 completed out of 500 loss: 9034.37449701567\n",
            "Epoch 17 completed out of 500 loss: 10052.46014668894\n",
            "Epoch 18 completed out of 500 loss: 10785.364270672202\n",
            "Epoch 19 completed out of 500 loss: 10450.20763353616\n",
            "Epoch 20 completed out of 500 loss: 8905.863559291349\n",
            "Epoch 21 completed out of 500 loss: 8891.932345612993\n",
            "Epoch 22 completed out of 500 loss: 9057.454083600209\n",
            "Epoch 23 completed out of 500 loss: 7644.267769873142\n",
            "Epoch 24 completed out of 500 loss: 7525.347642508124\n",
            "Epoch 25 completed out of 500 loss: 10955.492885234356\n",
            "Epoch 26 completed out of 500 loss: 7030.6096250722185\n",
            "Epoch 27 completed out of 500 loss: 6190.082440677721\n",
            "Epoch 28 completed out of 500 loss: 4664.887857213616\n",
            "Epoch 29 completed out of 500 loss: 7791.8756053571215\n",
            "Epoch 30 completed out of 500 loss: 6392.351320335865\n",
            "Epoch 31 completed out of 500 loss: 5640.403300836682\n",
            "Epoch 32 completed out of 500 loss: 5148.3031611341285\n",
            "Epoch 33 completed out of 500 loss: 6396.645067378879\n",
            "Epoch 34 completed out of 500 loss: 6177.158365726471\n",
            "Epoch 35 completed out of 500 loss: 4901.865643832572\n",
            "Epoch 36 completed out of 500 loss: 5462.0042190350505\n",
            "Epoch 37 completed out of 500 loss: 5632.701194795969\n",
            "Epoch 38 completed out of 500 loss: 5786.954702153802\n",
            "Epoch 39 completed out of 500 loss: 6786.892498617172\n",
            "Epoch 40 completed out of 500 loss: 5262.0026389611885\n",
            "Epoch 41 completed out of 500 loss: 3089.368308737874\n",
            "Epoch 42 completed out of 500 loss: 3797.3224156272395\n",
            "Epoch 43 completed out of 500 loss: 3715.686443348974\n",
            "Epoch 44 completed out of 500 loss: 4364.875149399042\n",
            "Epoch 45 completed out of 500 loss: 5251.77839332819\n",
            "Epoch 46 completed out of 500 loss: 3816.7753226161003\n",
            "Epoch 47 completed out of 500 loss: 6018.300413891673\n",
            "Epoch 48 completed out of 500 loss: 3798.9933030605316\n",
            "Epoch 49 completed out of 500 loss: 3784.4056886211038\n",
            "Epoch 50 completed out of 500 loss: 4042.822594165802\n",
            "Epoch 51 completed out of 500 loss: 2584.883683681488\n",
            "Epoch 52 completed out of 500 loss: 3667.852645369421\n",
            "Epoch 53 completed out of 500 loss: 4486.013312578201\n",
            "Epoch 54 completed out of 500 loss: 4423.2951964735985\n",
            "Epoch 55 completed out of 500 loss: 3950.4529016911983\n",
            "Epoch 56 completed out of 500 loss: 2664.419113215844\n",
            "Epoch 57 completed out of 500 loss: 3850.9206561124324\n",
            "Epoch 58 completed out of 500 loss: 3178.150628440082\n",
            "Epoch 59 completed out of 500 loss: 3780.8533478975296\n",
            "Epoch 60 completed out of 500 loss: 4474.378421908617\n",
            "Epoch 61 completed out of 500 loss: 3753.759387428608\n",
            "Epoch 62 completed out of 500 loss: 2175.014168679714\n",
            "Epoch 63 completed out of 500 loss: 2302.841288328171\n",
            "Epoch 64 completed out of 500 loss: 3605.5388590097427\n",
            "Epoch 65 completed out of 500 loss: 3093.71467807889\n",
            "Epoch 66 completed out of 500 loss: 3793.2728649377823\n",
            "Epoch 67 completed out of 500 loss: 3843.5778841897845\n",
            "Epoch 68 completed out of 500 loss: 4258.967309808731\n",
            "Epoch 69 completed out of 500 loss: 2974.0699805021286\n",
            "Epoch 70 completed out of 500 loss: 2567.6964207291603\n",
            "Epoch 71 completed out of 500 loss: 2436.8998214006424\n",
            "Epoch 72 completed out of 500 loss: 4408.152672767639\n",
            "Epoch 73 completed out of 500 loss: 3308.2847447395325\n",
            "Epoch 74 completed out of 500 loss: 2924.1843413710594\n",
            "Epoch 75 completed out of 500 loss: 2599.4803307652473\n",
            "Epoch 76 completed out of 500 loss: 2963.31310541749\n",
            "Epoch 77 completed out of 500 loss: 2701.247008562088\n",
            "Epoch 78 completed out of 500 loss: 1371.3014981150627\n",
            "Epoch 79 completed out of 500 loss: 2541.587328672409\n",
            "Epoch 80 completed out of 500 loss: 2400.782164335251\n",
            "Epoch 81 completed out of 500 loss: 2514.9101062491536\n",
            "Epoch 82 completed out of 500 loss: 2478.355746872723\n",
            "Epoch 83 completed out of 500 loss: 3016.722474217415\n",
            "Epoch 84 completed out of 500 loss: 2906.8542497218587\n",
            "Epoch 85 completed out of 500 loss: 2780.5710430927575\n",
            "Epoch 86 completed out of 500 loss: 1497.8369081307756\n",
            "Epoch 87 completed out of 500 loss: 3365.043944454761\n",
            "Epoch 88 completed out of 500 loss: 1852.581753373146\n",
            "Epoch 89 completed out of 500 loss: 2401.932268977165\n",
            "Epoch 90 completed out of 500 loss: 1336.22373560071\n",
            "Epoch 91 completed out of 500 loss: 1784.1730184555054\n",
            "Epoch 92 completed out of 500 loss: 3209.396966457367\n",
            "Epoch 93 completed out of 500 loss: 1896.0341111167509\n",
            "Epoch 94 completed out of 500 loss: 2572.0163570530713\n",
            "Epoch 95 completed out of 500 loss: 1977.8748738318682\n",
            "Epoch 96 completed out of 500 loss: 2288.95199767977\n",
            "Epoch 97 completed out of 500 loss: 1856.947934627533\n",
            "Epoch 98 completed out of 500 loss: 2906.4800376296043\n",
            "Epoch 99 completed out of 500 loss: 2698.5363521650434\n",
            "Epoch 100 completed out of 500 loss: 1612.9671616107225\n",
            "Epoch 101 completed out of 500 loss: 1268.9619815349579\n",
            "Epoch 102 completed out of 500 loss: 2558.8216482400894\n",
            "Epoch 103 completed out of 500 loss: 2963.522473424673\n",
            "Epoch 104 completed out of 500 loss: 2877.6200165450573\n",
            "Epoch 105 completed out of 500 loss: 1703.9544684886932\n",
            "Epoch 106 completed out of 500 loss: 2387.308899833384\n",
            "Epoch 107 completed out of 500 loss: 1543.3352065086365\n",
            "Epoch 108 completed out of 500 loss: 2201.104799926281\n",
            "Epoch 109 completed out of 500 loss: 2526.4397238492966\n",
            "Epoch 110 completed out of 500 loss: 2309.9724558889866\n",
            "Epoch 111 completed out of 500 loss: 1964.1215240359306\n",
            "Epoch 112 completed out of 500 loss: 1559.758545943696\n",
            "Epoch 113 completed out of 500 loss: 1601.080300277914\n",
            "Epoch 114 completed out of 500 loss: 1597.2775285243988\n",
            "Epoch 115 completed out of 500 loss: 2553.201576948166\n",
            "Epoch 116 completed out of 500 loss: 2594.0977362394333\n",
            "Epoch 117 completed out of 500 loss: 1919.0966783761978\n",
            "Epoch 118 completed out of 500 loss: 1436.7464225608855\n",
            "Epoch 119 completed out of 500 loss: 1369.2871426716447\n",
            "Epoch 120 completed out of 500 loss: 817.9234353205561\n",
            "Epoch 121 completed out of 500 loss: 2521.7490718242534\n",
            "Epoch 122 completed out of 500 loss: 2627.4266557097435\n",
            "Epoch 123 completed out of 500 loss: 726.9732955992222\n",
            "Epoch 124 completed out of 500 loss: 1760.9563995301723\n",
            "Epoch 125 completed out of 500 loss: 1991.7965219032765\n",
            "Epoch 126 completed out of 500 loss: 1727.1087423115969\n",
            "Epoch 127 completed out of 500 loss: 1582.4251432269812\n",
            "Epoch 128 completed out of 500 loss: 791.7052258253098\n",
            "Epoch 129 completed out of 500 loss: 2473.6858501434326\n",
            "Epoch 130 completed out of 500 loss: 3034.567868709564\n",
            "Epoch 131 completed out of 500 loss: 1505.9014975726604\n",
            "Epoch 132 completed out of 500 loss: 1565.6601825344562\n",
            "Epoch 133 completed out of 500 loss: 2057.9493300914764\n",
            "Epoch 134 completed out of 500 loss: 1084.0058039426804\n",
            "Epoch 135 completed out of 500 loss: 1375.7722175642848\n",
            "Epoch 136 completed out of 500 loss: 1949.2137516736984\n",
            "Epoch 137 completed out of 500 loss: 1151.8874985627285\n",
            "Epoch 138 completed out of 500 loss: 1898.0033402442932\n",
            "Epoch 139 completed out of 500 loss: 1676.4797828066348\n",
            "Epoch 140 completed out of 500 loss: 1776.5081253051758\n",
            "Epoch 141 completed out of 500 loss: 1275.99315482378\n",
            "Epoch 142 completed out of 500 loss: 1822.1730081737041\n",
            "Epoch 143 completed out of 500 loss: 2274.1646840572357\n",
            "Epoch 144 completed out of 500 loss: 2041.0054684877396\n",
            "Epoch 145 completed out of 500 loss: 1451.7279913127422\n",
            "Epoch 146 completed out of 500 loss: 977.4159007072449\n",
            "Epoch 147 completed out of 500 loss: 982.8055697083473\n",
            "Epoch 148 completed out of 500 loss: 2476.9941644686646\n",
            "Epoch 149 completed out of 500 loss: 1823.1660658717155\n",
            "Epoch 150 completed out of 500 loss: 1429.3088641762733\n",
            "Epoch 151 completed out of 500 loss: 1650.4172130823135\n",
            "Epoch 152 completed out of 500 loss: 1425.0368432658724\n",
            "Epoch 153 completed out of 500 loss: 1125.3060752153397\n",
            "Epoch 154 completed out of 500 loss: 2727.96191239357\n",
            "Epoch 155 completed out of 500 loss: 1758.611892014742\n",
            "Epoch 156 completed out of 500 loss: 1400.9814946651459\n",
            "Epoch 157 completed out of 500 loss: 997.8953255414963\n",
            "Epoch 158 completed out of 500 loss: 986.9175277650356\n",
            "Epoch 159 completed out of 500 loss: 1334.7946751117706\n",
            "Epoch 160 completed out of 500 loss: 1616.359168767929\n",
            "Epoch 161 completed out of 500 loss: 1877.3104159832\n",
            "Epoch 162 completed out of 500 loss: 1435.4700496995133\n",
            "Epoch 163 completed out of 500 loss: 1689.8409035062584\n",
            "Epoch 164 completed out of 500 loss: 937.7619781494141\n",
            "Epoch 165 completed out of 500 loss: 770.286913447082\n",
            "Epoch 166 completed out of 500 loss: 1602.0629472732544\n",
            "Epoch 167 completed out of 500 loss: 2218.8075008392334\n",
            "Epoch 168 completed out of 500 loss: 1098.396969974041\n",
            "Epoch 169 completed out of 500 loss: 1608.0703983306885\n",
            "Epoch 170 completed out of 500 loss: 1963.6807932853699\n",
            "Epoch 171 completed out of 500 loss: 893.0039302110672\n",
            "Epoch 172 completed out of 500 loss: 1717.9108458682895\n",
            "Epoch 173 completed out of 500 loss: 1695.955972313881\n",
            "Epoch 174 completed out of 500 loss: 1781.7487531900406\n",
            "Epoch 175 completed out of 500 loss: 1795.6671160459518\n",
            "Epoch 176 completed out of 500 loss: 949.3685907698236\n",
            "Epoch 177 completed out of 500 loss: 1552.2220478057861\n",
            "Epoch 178 completed out of 500 loss: 1392.4762706756592\n",
            "Epoch 179 completed out of 500 loss: 1356.5773496478796\n",
            "Epoch 180 completed out of 500 loss: 1607.0987497866154\n",
            "Epoch 181 completed out of 500 loss: 2494.6979506015778\n",
            "Epoch 182 completed out of 500 loss: 1147.263524889946\n",
            "Epoch 183 completed out of 500 loss: 1344.2218699455261\n",
            "Epoch 184 completed out of 500 loss: 765.7512630224228\n",
            "Epoch 185 completed out of 500 loss: 1357.8353514772025\n",
            "Epoch 186 completed out of 500 loss: 1551.049397945404\n",
            "Epoch 187 completed out of 500 loss: 1704.882438659668\n",
            "Epoch 188 completed out of 500 loss: 1522.2720794677734\n",
            "Epoch 189 completed out of 500 loss: 1210.8189459443092\n",
            "Epoch 190 completed out of 500 loss: 506.89066149294376\n",
            "Epoch 191 completed out of 500 loss: 977.4700351208448\n",
            "Epoch 192 completed out of 500 loss: 1317.1165843009949\n",
            "Epoch 193 completed out of 500 loss: 1867.5183439850807\n",
            "Epoch 194 completed out of 500 loss: 1451.8203384876251\n",
            "Epoch 195 completed out of 500 loss: 907.6027265787125\n",
            "Epoch 196 completed out of 500 loss: 639.9938454031944\n",
            "Epoch 197 completed out of 500 loss: 1203.4552157204598\n",
            "Epoch 198 completed out of 500 loss: 1931.4119743015617\n",
            "Epoch 199 completed out of 500 loss: 1132.247516155243\n",
            "Epoch 200 completed out of 500 loss: 1180.130422204733\n",
            "Epoch 201 completed out of 500 loss: 736.7954985499382\n",
            "Epoch 202 completed out of 500 loss: 1919.0630470216274\n",
            "Epoch 203 completed out of 500 loss: 1392.4522237181664\n",
            "Epoch 204 completed out of 500 loss: 2408.891219854355\n",
            "Epoch 205 completed out of 500 loss: 656.2077994346619\n",
            "Epoch 206 completed out of 500 loss: 1412.035539880395\n",
            "Epoch 207 completed out of 500 loss: 1164.2493195533752\n",
            "Epoch 208 completed out of 500 loss: 1235.5844793915749\n",
            "Epoch 209 completed out of 500 loss: 852.1726441383362\n",
            "Epoch 210 completed out of 500 loss: 1442.7506588697433\n",
            "Epoch 211 completed out of 500 loss: 836.3120927810669\n",
            "Epoch 212 completed out of 500 loss: 1667.9856132268906\n",
            "Epoch 213 completed out of 500 loss: 1408.0655193328857\n",
            "Epoch 214 completed out of 500 loss: 1275.8621963909359\n",
            "Epoch 215 completed out of 500 loss: 1051.8797352313995\n",
            "Epoch 216 completed out of 500 loss: 820.8645439147949\n",
            "Epoch 217 completed out of 500 loss: 1863.1663520932198\n",
            "Epoch 218 completed out of 500 loss: 2011.2108957767487\n",
            "Epoch 219 completed out of 500 loss: 937.523689031601\n",
            "Epoch 220 completed out of 500 loss: 1447.0470402240753\n",
            "Epoch 221 completed out of 500 loss: 1089.281499683857\n",
            "Epoch 222 completed out of 500 loss: 589.1014957427979\n",
            "Epoch 223 completed out of 500 loss: 335.018926858902\n",
            "Epoch 224 completed out of 500 loss: 1106.9983741641045\n",
            "Epoch 225 completed out of 500 loss: 2411.6245968037547\n",
            "Epoch 226 completed out of 500 loss: 1350.802025437355\n",
            "Epoch 227 completed out of 500 loss: 1007.4790289402008\n",
            "Epoch 228 completed out of 500 loss: 1324.938965857029\n",
            "Epoch 229 completed out of 500 loss: 252.7565040588379\n",
            "Epoch 230 completed out of 500 loss: 1237.4722092151642\n",
            "Epoch 231 completed out of 500 loss: 1834.9043445587158\n",
            "Epoch 232 completed out of 500 loss: 1681.8187261192506\n",
            "Epoch 233 completed out of 500 loss: 1569.837562084198\n",
            "Epoch 234 completed out of 500 loss: 1159.9094314277172\n",
            "Epoch 235 completed out of 500 loss: 412.007611989975\n",
            "Epoch 236 completed out of 500 loss: 386.3019585609436\n",
            "Epoch 237 completed out of 500 loss: 1596.541911125183\n",
            "Epoch 238 completed out of 500 loss: 1614.4418878406286\n",
            "Epoch 239 completed out of 500 loss: 643.887579023838\n",
            "Epoch 240 completed out of 500 loss: 1022.2161873579025\n",
            "Epoch 241 completed out of 500 loss: 1009.6394371986389\n",
            "Epoch 242 completed out of 500 loss: 1270.8226163983345\n",
            "Epoch 243 completed out of 500 loss: 800.930716753006\n",
            "Epoch 244 completed out of 500 loss: 741.0957789421082\n",
            "Epoch 245 completed out of 500 loss: 434.50500786304474\n",
            "Epoch 246 completed out of 500 loss: 887.785392999649\n",
            "Epoch 247 completed out of 500 loss: 1431.9158399105072\n",
            "Epoch 248 completed out of 500 loss: 1315.5249189138412\n",
            "Epoch 249 completed out of 500 loss: 563.2584630846977\n",
            "Epoch 250 completed out of 500 loss: 684.6090606683865\n",
            "Epoch 251 completed out of 500 loss: 885.5903812646866\n",
            "Epoch 252 completed out of 500 loss: 1302.2936032265425\n",
            "Epoch 253 completed out of 500 loss: 1443.105061352253\n",
            "Epoch 254 completed out of 500 loss: 1162.2152309417725\n",
            "Epoch 255 completed out of 500 loss: 447.96986520290375\n",
            "Epoch 256 completed out of 500 loss: 788.9815707206726\n",
            "Epoch 257 completed out of 500 loss: 903.0475881099701\n",
            "Epoch 258 completed out of 500 loss: 848.8151704072952\n",
            "Epoch 259 completed out of 500 loss: 1210.5871616601944\n",
            "Epoch 260 completed out of 500 loss: 1388.7395753860474\n",
            "Epoch 261 completed out of 500 loss: 2054.096276640892\n",
            "Epoch 262 completed out of 500 loss: 1882.456735253334\n",
            "Epoch 263 completed out of 500 loss: 476.3019993454218\n",
            "Epoch 264 completed out of 500 loss: 591.0014740824699\n",
            "Epoch 265 completed out of 500 loss: 655.2391405105591\n",
            "Epoch 266 completed out of 500 loss: 988.8464093208313\n",
            "Epoch 267 completed out of 500 loss: 1659.2911837100983\n",
            "Epoch 268 completed out of 500 loss: 894.6206092089415\n",
            "Epoch 269 completed out of 500 loss: 1706.1573894023895\n",
            "Epoch 270 completed out of 500 loss: 369.8718013900533\n",
            "Epoch 271 completed out of 500 loss: 974.4726386070251\n",
            "Epoch 272 completed out of 500 loss: 988.3395696878433\n",
            "Epoch 273 completed out of 500 loss: 658.4728269577026\n",
            "Epoch 274 completed out of 500 loss: 896.202029466629\n",
            "Epoch 275 completed out of 500 loss: 1395.2367630898952\n",
            "Epoch 276 completed out of 500 loss: 621.0017477345284\n",
            "Epoch 277 completed out of 500 loss: 1298.6624393463135\n",
            "Epoch 278 completed out of 500 loss: 1558.134680211544\n",
            "Epoch 279 completed out of 500 loss: 494.28416270017624\n",
            "Epoch 280 completed out of 500 loss: 203.3776594627816\n",
            "Epoch 281 completed out of 500 loss: 694.0144039392471\n",
            "Epoch 282 completed out of 500 loss: 792.3594807386398\n",
            "Epoch 283 completed out of 500 loss: 1569.4029386043549\n",
            "Epoch 284 completed out of 500 loss: 816.7671736478806\n",
            "Epoch 285 completed out of 500 loss: 454.55734307169894\n",
            "Epoch 286 completed out of 500 loss: 1699.2508997917175\n",
            "Epoch 287 completed out of 500 loss: 1064.4921190056484\n",
            "Epoch 288 completed out of 500 loss: 1338.2675704956055\n",
            "Epoch 289 completed out of 500 loss: 541.5541343688965\n",
            "Epoch 290 completed out of 500 loss: 754.1548321247101\n",
            "Epoch 291 completed out of 500 loss: 1451.163142412901\n",
            "Epoch 292 completed out of 500 loss: 441.85058307647705\n",
            "Epoch 293 completed out of 500 loss: 452.9285397529602\n",
            "Epoch 294 completed out of 500 loss: 798.4894001483917\n",
            "Epoch 295 completed out of 500 loss: 1741.5943849086761\n",
            "Epoch 296 completed out of 500 loss: 1466.0213251113892\n",
            "Epoch 297 completed out of 500 loss: 924.3856773376465\n",
            "Epoch 298 completed out of 500 loss: 965.7622309923172\n",
            "Epoch 299 completed out of 500 loss: 2540.6246567964554\n",
            "Epoch 300 completed out of 500 loss: 500.49342226982117\n",
            "Epoch 301 completed out of 500 loss: 808.4053289890289\n",
            "Epoch 302 completed out of 500 loss: 869.0597839355469\n",
            "Epoch 303 completed out of 500 loss: 529.6427705287933\n",
            "Epoch 304 completed out of 500 loss: 836.4450672566891\n",
            "Epoch 305 completed out of 500 loss: 628.6954834461212\n",
            "Epoch 306 completed out of 500 loss: 592.605219244957\n",
            "Epoch 307 completed out of 500 loss: 1092.2026723535382\n",
            "Epoch 308 completed out of 500 loss: 1252.7888531684875\n",
            "Epoch 309 completed out of 500 loss: 1467.8918576091528\n",
            "Epoch 310 completed out of 500 loss: 487.7217016220093\n",
            "Epoch 311 completed out of 500 loss: 684.0231328010559\n",
            "Epoch 312 completed out of 500 loss: 702.2336285114288\n",
            "Epoch 313 completed out of 500 loss: 876.1496962606907\n",
            "Epoch 314 completed out of 500 loss: 283.8692239522934\n",
            "Epoch 315 completed out of 500 loss: 857.5624932050705\n",
            "Epoch 316 completed out of 500 loss: 1651.6124242842197\n",
            "Epoch 317 completed out of 500 loss: 772.0277136564255\n",
            "Epoch 318 completed out of 500 loss: 502.76809537410736\n",
            "Epoch 319 completed out of 500 loss: 769.497540295124\n",
            "Epoch 320 completed out of 500 loss: 441.6353876590729\n",
            "Epoch 321 completed out of 500 loss: 1288.458477973938\n",
            "Epoch 322 completed out of 500 loss: 1042.184846997261\n",
            "Epoch 323 completed out of 500 loss: 486.2962472438812\n",
            "Epoch 324 completed out of 500 loss: 445.8056636452675\n",
            "Epoch 325 completed out of 500 loss: 1786.8913455605507\n",
            "Epoch 326 completed out of 500 loss: 1350.9369986578822\n",
            "Epoch 327 completed out of 500 loss: 368.1582250595093\n",
            "Epoch 328 completed out of 500 loss: 816.5037046670914\n",
            "Epoch 329 completed out of 500 loss: 1462.1476981379092\n",
            "Epoch 330 completed out of 500 loss: 1598.7794921398163\n",
            "Epoch 331 completed out of 500 loss: 901.5734185874462\n",
            "Epoch 332 completed out of 500 loss: 776.8094663619995\n",
            "Epoch 333 completed out of 500 loss: 534.1358616352081\n",
            "Epoch 334 completed out of 500 loss: 1227.509959670715\n",
            "Epoch 335 completed out of 500 loss: 1209.502367258072\n",
            "Epoch 336 completed out of 500 loss: 1104.7651897668839\n",
            "Epoch 337 completed out of 500 loss: 385.7560183554888\n",
            "Epoch 338 completed out of 500 loss: 1238.5751028060913\n",
            "Epoch 339 completed out of 500 loss: 468.7376419007778\n",
            "Epoch 340 completed out of 500 loss: 797.9897756576538\n",
            "Epoch 341 completed out of 500 loss: 940.2990541160107\n",
            "Epoch 342 completed out of 500 loss: 689.429527759552\n",
            "Epoch 343 completed out of 500 loss: 960.8635030984879\n",
            "Epoch 344 completed out of 500 loss: 628.661394789815\n",
            "Epoch 345 completed out of 500 loss: 796.6610734462738\n",
            "Epoch 346 completed out of 500 loss: 847.063452154398\n",
            "Epoch 347 completed out of 500 loss: 781.3302707672119\n",
            "Epoch 348 completed out of 500 loss: 794.439489364624\n",
            "Epoch 349 completed out of 500 loss: 1270.147405385971\n",
            "Epoch 350 completed out of 500 loss: 718.0594526529312\n",
            "Epoch 351 completed out of 500 loss: 653.4351239204407\n",
            "Epoch 352 completed out of 500 loss: 189.911503598094\n",
            "Epoch 353 completed out of 500 loss: 493.77900314331055\n",
            "Epoch 354 completed out of 500 loss: 988.5569321215153\n",
            "Epoch 355 completed out of 500 loss: 469.6881024837494\n",
            "Epoch 356 completed out of 500 loss: 1619.6139268875122\n",
            "Epoch 357 completed out of 500 loss: 733.0198765993118\n",
            "Epoch 358 completed out of 500 loss: 1199.438981473446\n",
            "Epoch 359 completed out of 500 loss: 736.975959777832\n",
            "Epoch 360 completed out of 500 loss: 349.31674242019653\n",
            "Epoch 361 completed out of 500 loss: 448.72952368855476\n",
            "Epoch 362 completed out of 500 loss: 452.4011791944504\n",
            "Epoch 363 completed out of 500 loss: 1154.0826123952866\n",
            "Epoch 364 completed out of 500 loss: 1363.1238548755646\n",
            "Epoch 365 completed out of 500 loss: 628.9047193527222\n",
            "Epoch 366 completed out of 500 loss: 704.4456243515015\n",
            "Epoch 367 completed out of 500 loss: 176.68311977386475\n",
            "Epoch 368 completed out of 500 loss: 913.4258381128311\n",
            "Epoch 369 completed out of 500 loss: 1278.4604320526123\n",
            "Epoch 370 completed out of 500 loss: 638.2531249523163\n",
            "Epoch 371 completed out of 500 loss: 824.6737041473389\n",
            "Epoch 372 completed out of 500 loss: 420.0242993235588\n",
            "Epoch 373 completed out of 500 loss: 302.8538484573364\n",
            "Epoch 374 completed out of 500 loss: 935.4972639083862\n",
            "Epoch 375 completed out of 500 loss: 976.6794473528862\n",
            "Epoch 376 completed out of 500 loss: 693.2074432373047\n",
            "Epoch 377 completed out of 500 loss: 908.5370671749115\n",
            "Epoch 378 completed out of 500 loss: 591.6067881584167\n",
            "Epoch 379 completed out of 500 loss: 1299.7069952487946\n",
            "Epoch 380 completed out of 500 loss: 944.9464595317841\n",
            "Epoch 381 completed out of 500 loss: 689.7741523981094\n",
            "Epoch 382 completed out of 500 loss: 741.2163572311401\n",
            "Epoch 383 completed out of 500 loss: 684.1682197749615\n",
            "Epoch 384 completed out of 500 loss: 884.8591800928116\n",
            "Epoch 385 completed out of 500 loss: 1181.2699387073517\n",
            "Epoch 386 completed out of 500 loss: 516.619616791606\n",
            "Epoch 387 completed out of 500 loss: 443.4205756187439\n",
            "Epoch 388 completed out of 500 loss: 630.3060779571533\n",
            "Epoch 389 completed out of 500 loss: 1118.5773086881636\n",
            "Epoch 390 completed out of 500 loss: 647.7572889328003\n",
            "Epoch 391 completed out of 500 loss: 700.4069681196527\n",
            "Epoch 392 completed out of 500 loss: 341.59299492836\n",
            "Epoch 393 completed out of 500 loss: 185.62324810028076\n",
            "Epoch 394 completed out of 500 loss: 429.7883577346802\n",
            "Epoch 395 completed out of 500 loss: 1537.2406010627747\n",
            "Epoch 396 completed out of 500 loss: 1206.272360265255\n",
            "Epoch 397 completed out of 500 loss: 708.4018726348877\n",
            "Epoch 398 completed out of 500 loss: 982.6936311721802\n",
            "Epoch 399 completed out of 500 loss: 300.98941481113434\n",
            "Epoch 400 completed out of 500 loss: 571.2055268287659\n",
            "Epoch 401 completed out of 500 loss: 662.2326645255089\n",
            "Epoch 402 completed out of 500 loss: 669.7707588672638\n",
            "Epoch 403 completed out of 500 loss: 1004.8945584893227\n",
            "Epoch 404 completed out of 500 loss: 737.1581320166588\n",
            "Epoch 405 completed out of 500 loss: 461.5593127012253\n",
            "Epoch 406 completed out of 500 loss: 1133.7421731948853\n",
            "Epoch 407 completed out of 500 loss: 1016.920139849186\n",
            "Epoch 408 completed out of 500 loss: 510.8907995223999\n",
            "Epoch 409 completed out of 500 loss: 919.4677795767784\n",
            "Epoch 410 completed out of 500 loss: 1155.672889471054\n",
            "Epoch 411 completed out of 500 loss: 758.5418990852777\n",
            "Epoch 412 completed out of 500 loss: 523.3074067831039\n",
            "Epoch 413 completed out of 500 loss: 272.3441982269287\n",
            "Epoch 414 completed out of 500 loss: 870.6014939248562\n",
            "Epoch 415 completed out of 500 loss: 555.9126929342747\n",
            "Epoch 416 completed out of 500 loss: 1302.8247094750404\n",
            "Epoch 417 completed out of 500 loss: 876.3279440402985\n",
            "Epoch 418 completed out of 500 loss: 665.1733210086823\n",
            "Epoch 419 completed out of 500 loss: 573.1260361671448\n",
            "Epoch 420 completed out of 500 loss: 888.7964291572571\n",
            "Epoch 421 completed out of 500 loss: 1270.7250905036926\n",
            "Epoch 422 completed out of 500 loss: 612.0508985519409\n",
            "Epoch 423 completed out of 500 loss: 1112.549074292183\n",
            "Epoch 424 completed out of 500 loss: 291.0145741701126\n",
            "Epoch 425 completed out of 500 loss: 787.73834836483\n",
            "Epoch 426 completed out of 500 loss: 983.3645391464233\n",
            "Epoch 427 completed out of 500 loss: 561.5746898651123\n",
            "Epoch 428 completed out of 500 loss: 1102.3150664567947\n",
            "Epoch 429 completed out of 500 loss: 1164.0528896600008\n",
            "Epoch 430 completed out of 500 loss: 815.5701012611389\n",
            "Epoch 431 completed out of 500 loss: 494.93205738067627\n",
            "Epoch 432 completed out of 500 loss: 463.5502144098282\n",
            "Epoch 433 completed out of 500 loss: 481.4651445094496\n",
            "Epoch 434 completed out of 500 loss: 703.5184359550476\n",
            "Epoch 435 completed out of 500 loss: 691.4821302890778\n",
            "Epoch 436 completed out of 500 loss: 590.6627187728882\n",
            "Epoch 437 completed out of 500 loss: 951.6849898397923\n",
            "Epoch 438 completed out of 500 loss: 821.8348653316498\n",
            "Epoch 439 completed out of 500 loss: 846.2941373586655\n",
            "Epoch 440 completed out of 500 loss: 411.6383762359619\n",
            "Epoch 441 completed out of 500 loss: 632.4419870376587\n",
            "Epoch 442 completed out of 500 loss: 337.6947989463806\n",
            "Epoch 443 completed out of 500 loss: 752.333256483078\n",
            "Epoch 444 completed out of 500 loss: 1435.7868008613586\n",
            "Epoch 445 completed out of 500 loss: 99.84736627340317\n",
            "Epoch 446 completed out of 500 loss: 342.8153346776962\n",
            "Epoch 447 completed out of 500 loss: 535.2006914615631\n",
            "Epoch 448 completed out of 500 loss: 569.4411990046501\n",
            "Epoch 449 completed out of 500 loss: 153.47634428739548\n",
            "Epoch 450 completed out of 500 loss: 1267.389837384224\n",
            "Epoch 451 completed out of 500 loss: 1153.6432027816772\n",
            "Epoch 452 completed out of 500 loss: 423.16136407852173\n",
            "Epoch 453 completed out of 500 loss: 663.3616065979004\n",
            "Epoch 454 completed out of 500 loss: 577.342499256134\n",
            "Epoch 455 completed out of 500 loss: 133.4674253463745\n",
            "Epoch 456 completed out of 500 loss: 1095.395096682012\n",
            "Epoch 457 completed out of 500 loss: 582.4477388858795\n",
            "Epoch 458 completed out of 500 loss: 325.9287528991699\n",
            "Epoch 459 completed out of 500 loss: 709.0779771767557\n",
            "Epoch 460 completed out of 500 loss: 540.8036398887634\n",
            "Epoch 461 completed out of 500 loss: 1420.103346523274\n",
            "Epoch 462 completed out of 500 loss: 492.32433128356934\n",
            "Epoch 463 completed out of 500 loss: 616.8568798100944\n",
            "Epoch 464 completed out of 500 loss: 600.6459990739822\n",
            "Epoch 465 completed out of 500 loss: 180.27830123901367\n",
            "Epoch 466 completed out of 500 loss: 545.1626169271767\n",
            "Epoch 467 completed out of 500 loss: 1362.5891449451447\n",
            "Epoch 468 completed out of 500 loss: 455.15358906006554\n",
            "Epoch 469 completed out of 500 loss: 335.3535385131836\n",
            "Epoch 470 completed out of 500 loss: 169.12905836105347\n",
            "Epoch 471 completed out of 500 loss: 1159.6639832258224\n",
            "Epoch 472 completed out of 500 loss: 263.3357810974121\n",
            "Epoch 473 completed out of 500 loss: 421.3128207921982\n",
            "Epoch 474 completed out of 500 loss: 248.792327105999\n",
            "Epoch 475 completed out of 500 loss: 645.5771872997284\n",
            "Epoch 476 completed out of 500 loss: 1007.5731211341918\n",
            "Epoch 477 completed out of 500 loss: 970.2955048084259\n",
            "Epoch 478 completed out of 500 loss: 958.5756633877754\n",
            "Epoch 479 completed out of 500 loss: 662.6960184574127\n",
            "Epoch 480 completed out of 500 loss: 1272.4723002910614\n",
            "Epoch 481 completed out of 500 loss: 1563.5376663208008\n",
            "Epoch 482 completed out of 500 loss: 358.9982829093933\n",
            "Epoch 483 completed out of 500 loss: 271.3241376876831\n",
            "Epoch 484 completed out of 500 loss: 695.826361656189\n",
            "Epoch 485 completed out of 500 loss: 844.1867524385452\n",
            "Epoch 486 completed out of 500 loss: 555.2613255381584\n",
            "Epoch 487 completed out of 500 loss: 1063.5746212005615\n",
            "Epoch 488 completed out of 500 loss: 662.5360412597656\n",
            "Epoch 489 completed out of 500 loss: 285.7383613586426\n",
            "Epoch 490 completed out of 500 loss: 993.8661217689514\n",
            "Epoch 491 completed out of 500 loss: 319.5121009349823\n",
            "Epoch 492 completed out of 500 loss: 539.7902851104736\n",
            "Epoch 493 completed out of 500 loss: 392.5268894135952\n",
            "Epoch 494 completed out of 500 loss: 733.9059145525098\n",
            "Epoch 495 completed out of 500 loss: 696.6259822845459\n",
            "Epoch 496 completed out of 500 loss: 1237.4930067062378\n",
            "Epoch 497 completed out of 500 loss: 623.6661670207977\n",
            "Epoch 498 completed out of 500 loss: 759.6828036308289\n",
            "Epoch 499 completed out of 500 loss: 1097.4555967093038\n",
            "Accuracy Test: 0.9786\n"
          ],
          "name": "stdout"
        }
      ]
    },
    {
      "cell_type": "markdown",
      "metadata": {
        "id": "nBgt8mKMV9fS",
        "colab_type": "text"
      },
      "source": [
        "# Gráfica de error#"
      ]
    },
    {
      "cell_type": "code",
      "metadata": {
        "colab_type": "code",
        "id": "ZPmx9GG0RpnE",
        "outputId": "d28a526f-c7e6-4bf8-e5ec-9125784a2158",
        "colab": {
          "base_uri": "https://localhost:8080/",
          "height": 573
        }
      },
      "source": [
        "# Graph error\n",
        "def graph_error(err_vector):\n",
        "\n",
        "    plt.figure(0)\n",
        "    plt.plot(err_vector)\n",
        "    plt.xlabel('Epochs')\n",
        "    plt.ylabel('Error')\n",
        "    plt.title('Loss Neural Network')\n",
        "    plt.show()\n",
        "    \n",
        "# Graph accuracy\n",
        "def graph_accuracy(accuracy):\n",
        "    plt.figure(0)\n",
        "    plt.plot(accuracy)\n",
        "    plt.xlabel('Epochs')\n",
        "    plt.ylabel('Accuracy')\n",
        "    plt.title('Accuracy Neural Network')\n",
        "    plt.show()\n",
        "graph_error(loss)\n",
        "graph_accuracy(accuracy)"
      ],
      "execution_count": 22,
      "outputs": [
        {
          "output_type": "display_data",
          "data": {
            "image/png": "[encoded data removed]",
            "text/plain": [
              "<Figure size 432x288 with 1 Axes>"
            ]
          },
          "metadata": {
            "tags": []
          }
        },
        {
          "output_type": "display_data",
          "data": {
            "image/png": "[encoded data removed]",
            "text/plain": [
              "<Figure size 432x288 with 1 Axes>"
            ]
          },
          "metadata": {
            "tags": []
          }
        }
      ]
    },
    {
      "cell_type": "code",
      "metadata": {
        "id": "gl_1khMw1xDc",
        "colab_type": "code",
        "colab": {}
      },
      "source": [
        ""
      ],
      "execution_count": 0,
      "outputs": []
    }
  ]
}